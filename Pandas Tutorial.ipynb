{
 "cells": [
  {
   "cell_type": "code",
   "execution_count": 1,
   "metadata": {},
   "outputs": [],
   "source": [
    "import pandas as pd\n"
   ]
  },
  {
   "cell_type": "code",
   "execution_count": 35,
   "metadata": {},
   "outputs": [
    {
     "data": {
      "text/plain": [
       "(64, 18)"
      ]
     },
     "execution_count": 35,
     "metadata": {},
     "output_type": "execute_result"
    }
   ],
   "source": [
    "d1 = pd.read_csv(r\"C:\\Users\\nibed\\Desktop\\Freelance\\AD\\Take Home Assignment\\Datasets\\boi_cm1.csv\")\n",
    "d1.shape"
   ]
  },
  {
   "cell_type": "code",
   "execution_count": 11,
   "metadata": {},
   "outputs": [
    {
     "data": {
      "text/plain": [
       "'screens'"
      ]
     },
     "execution_count": 11,
     "metadata": {},
     "output_type": "execute_result"
    }
   ],
   "source": [
    "#column operations\n",
    "k = d1.columns\n",
    "k[-1]"
   ]
  },
  {
   "cell_type": "code",
   "execution_count": 12,
   "metadata": {},
   "outputs": [
    {
     "name": "stdout",
     "output_type": "stream",
     "text": [
      "<class 'pandas.core.frame.DataFrame'>\n",
      "RangeIndex: 64 entries, 0 to 63\n",
      "Data columns (total 18 columns):\n",
      " #   Column              Non-Null Count  Dtype  \n",
      "---  ------              --------------  -----  \n",
      " 0   title               64 non-null     object \n",
      " 1   Release Date        64 non-null     object \n",
      " 2   Gross               64 non-null     int64  \n",
      " 3   Release Year        64 non-null     int64  \n",
      " 4   duration            64 non-null     int64  \n",
      " 5   language            64 non-null     int64  \n",
      " 6   director            64 non-null     object \n",
      " 7   writer              64 non-null     object \n",
      " 8   production_company  63 non-null     object \n",
      " 9   Lead Star           64 non-null     object \n",
      " 10  genre1              64 non-null     object \n",
      " 11  genre2              60 non-null     object \n",
      " 12  genre3              35 non-null     object \n",
      " 13  Release Month       64 non-null     int64  \n",
      " 14  Start Month         64 non-null     bool   \n",
      " 15  End Month           64 non-null     bool   \n",
      " 16  Budget              54 non-null     float64\n",
      " 17  screens             57 non-null     float64\n",
      "dtypes: bool(2), float64(2), int64(5), object(9)\n",
      "memory usage: 8.2+ KB\n"
     ]
    }
   ],
   "source": [
    "#some basic information\n",
    "d1.info()"
   ]
  },
  {
   "cell_type": "code",
   "execution_count": 13,
   "metadata": {},
   "outputs": [
    {
     "data": {
      "text/html": [
       "<div>\n",
       "<style scoped>\n",
       "    .dataframe tbody tr th:only-of-type {\n",
       "        vertical-align: middle;\n",
       "    }\n",
       "\n",
       "    .dataframe tbody tr th {\n",
       "        vertical-align: top;\n",
       "    }\n",
       "\n",
       "    .dataframe thead th {\n",
       "        text-align: right;\n",
       "    }\n",
       "</style>\n",
       "<table border=\"1\" class=\"dataframe\">\n",
       "  <thead>\n",
       "    <tr style=\"text-align: right;\">\n",
       "      <th></th>\n",
       "      <th>Gross</th>\n",
       "      <th>Release Year</th>\n",
       "      <th>duration</th>\n",
       "      <th>language</th>\n",
       "      <th>Release Month</th>\n",
       "      <th>Budget</th>\n",
       "      <th>screens</th>\n",
       "    </tr>\n",
       "  </thead>\n",
       "  <tbody>\n",
       "    <tr>\n",
       "      <th>count</th>\n",
       "      <td>6.400000e+01</td>\n",
       "      <td>64.000000</td>\n",
       "      <td>64.000000</td>\n",
       "      <td>64.000000</td>\n",
       "      <td>64.000000</td>\n",
       "      <td>5.400000e+01</td>\n",
       "      <td>57.000000</td>\n",
       "    </tr>\n",
       "    <tr>\n",
       "      <th>mean</th>\n",
       "      <td>1.917156e+09</td>\n",
       "      <td>2013.812500</td>\n",
       "      <td>148.265625</td>\n",
       "      <td>1.656250</td>\n",
       "      <td>7.031250</td>\n",
       "      <td>9.734722e+08</td>\n",
       "      <td>2672.807018</td>\n",
       "    </tr>\n",
       "    <tr>\n",
       "      <th>std</th>\n",
       "      <td>1.118596e+09</td>\n",
       "      <td>3.426669</td>\n",
       "      <td>16.233653</td>\n",
       "      <td>1.072288</td>\n",
       "      <td>3.527528</td>\n",
       "      <td>7.990018e+08</td>\n",
       "      <td>1042.021995</td>\n",
       "    </tr>\n",
       "    <tr>\n",
       "      <th>min</th>\n",
       "      <td>9.471000e+08</td>\n",
       "      <td>2000.000000</td>\n",
       "      <td>111.000000</td>\n",
       "      <td>1.000000</td>\n",
       "      <td>1.000000</td>\n",
       "      <td>5.750000e+07</td>\n",
       "      <td>200.000000</td>\n",
       "    </tr>\n",
       "    <tr>\n",
       "      <th>25%</th>\n",
       "      <td>1.112425e+09</td>\n",
       "      <td>2012.000000</td>\n",
       "      <td>137.000000</td>\n",
       "      <td>1.000000</td>\n",
       "      <td>4.750000</td>\n",
       "      <td>6.100000e+08</td>\n",
       "      <td>1750.000000</td>\n",
       "    </tr>\n",
       "    <tr>\n",
       "      <th>50%</th>\n",
       "      <td>1.491100e+09</td>\n",
       "      <td>2014.000000</td>\n",
       "      <td>146.500000</td>\n",
       "      <td>1.000000</td>\n",
       "      <td>7.000000</td>\n",
       "      <td>8.350000e+08</td>\n",
       "      <td>2700.000000</td>\n",
       "    </tr>\n",
       "    <tr>\n",
       "      <th>75%</th>\n",
       "      <td>2.188975e+09</td>\n",
       "      <td>2016.000000</td>\n",
       "      <td>159.000000</td>\n",
       "      <td>2.000000</td>\n",
       "      <td>10.000000</td>\n",
       "      <td>1.202500e+09</td>\n",
       "      <td>3500.000000</td>\n",
       "    </tr>\n",
       "    <tr>\n",
       "      <th>max</th>\n",
       "      <td>5.196500e+09</td>\n",
       "      <td>2019.000000</td>\n",
       "      <td>198.000000</td>\n",
       "      <td>6.000000</td>\n",
       "      <td>12.000000</td>\n",
       "      <td>5.750000e+09</td>\n",
       "      <td>4600.000000</td>\n",
       "    </tr>\n",
       "  </tbody>\n",
       "</table>\n",
       "</div>"
      ],
      "text/plain": [
       "              Gross  Release Year    duration   language  Release Month  \\\n",
       "count  6.400000e+01     64.000000   64.000000  64.000000      64.000000   \n",
       "mean   1.917156e+09   2013.812500  148.265625   1.656250       7.031250   \n",
       "std    1.118596e+09      3.426669   16.233653   1.072288       3.527528   \n",
       "min    9.471000e+08   2000.000000  111.000000   1.000000       1.000000   \n",
       "25%    1.112425e+09   2012.000000  137.000000   1.000000       4.750000   \n",
       "50%    1.491100e+09   2014.000000  146.500000   1.000000       7.000000   \n",
       "75%    2.188975e+09   2016.000000  159.000000   2.000000      10.000000   \n",
       "max    5.196500e+09   2019.000000  198.000000   6.000000      12.000000   \n",
       "\n",
       "             Budget      screens  \n",
       "count  5.400000e+01    57.000000  \n",
       "mean   9.734722e+08  2672.807018  \n",
       "std    7.990018e+08  1042.021995  \n",
       "min    5.750000e+07   200.000000  \n",
       "25%    6.100000e+08  1750.000000  \n",
       "50%    8.350000e+08  2700.000000  \n",
       "75%    1.202500e+09  3500.000000  \n",
       "max    5.750000e+09  4600.000000  "
      ]
     },
     "execution_count": 13,
     "metadata": {},
     "output_type": "execute_result"
    }
   ],
   "source": [
    "#basic stats of the dataframe\n",
    "d1.describe()"
   ]
  },
  {
   "cell_type": "code",
   "execution_count": 16,
   "metadata": {},
   "outputs": [
    {
     "data": {
      "text/plain": [
       "Timestamp('2006-06-23 00:00:00')"
      ]
     },
     "execution_count": 16,
     "metadata": {},
     "output_type": "execute_result"
    }
   ],
   "source": [
    "d1['Release Date'] = pd.to_datetime(d1['Release Date'])\n",
    "d1['Release Date'].min()"
   ]
  },
  {
   "cell_type": "code",
   "execution_count": 18,
   "metadata": {},
   "outputs": [
    {
     "data": {
      "text/plain": [
       "Action       35\n",
       "Comedy       15\n",
       "Drama         9\n",
       "Biography     3\n",
       "Crime         2\n",
       "Name: genre1, dtype: int64"
      ]
     },
     "execution_count": 18,
     "metadata": {},
     "output_type": "execute_result"
    }
   ],
   "source": [
    "#categories in string columns\n",
    "d1['genre1'].value_counts()"
   ]
  },
  {
   "cell_type": "code",
   "execution_count": 19,
   "metadata": {},
   "outputs": [
    {
     "data": {
      "text/plain": [
       "5"
      ]
     },
     "execution_count": 19,
     "metadata": {},
     "output_type": "execute_result"
    }
   ],
   "source": [
    "#check number of unique values\n",
    "d1['genre1'].nunique()"
   ]
  },
  {
   "cell_type": "code",
   "execution_count": 20,
   "metadata": {},
   "outputs": [
    {
     "data": {
      "text/plain": [
       "array(['Action', 'Comedy', 'Biography', 'Drama', 'Crime'], dtype=object)"
      ]
     },
     "execution_count": 20,
     "metadata": {},
     "output_type": "execute_result"
    }
   ],
   "source": [
    "d1['genre1'].unique()"
   ]
  },
  {
   "cell_type": "code",
   "execution_count": 22,
   "metadata": {},
   "outputs": [
    {
     "data": {
      "text/plain": [
       "title                  0.0000\n",
       "Release Date           0.0000\n",
       "Gross                  0.0000\n",
       "Release Year           0.0000\n",
       "duration               0.0000\n",
       "language               0.0000\n",
       "director               0.0000\n",
       "writer                 0.0000\n",
       "production_company     1.5625\n",
       "Lead Star              0.0000\n",
       "genre1                 0.0000\n",
       "genre2                 6.2500\n",
       "genre3                45.3125\n",
       "Release Month          0.0000\n",
       "Start Month            0.0000\n",
       "End Month              0.0000\n",
       "Budget                15.6250\n",
       "screens               10.9375\n",
       "dtype: float64"
      ]
     },
     "execution_count": 22,
     "metadata": {},
     "output_type": "execute_result"
    }
   ],
   "source": [
    "#check null values in dataframe\n",
    "d1.isnull().sum()*100/len(d1)"
   ]
  },
  {
   "cell_type": "code",
   "execution_count": 38,
   "metadata": {},
   "outputs": [
    {
     "data": {
      "text/plain": [
       "Romance     17.1875\n",
       "Thriller    10.9375\n",
       "Drama        9.3750\n",
       "Musical      6.2500\n",
       "Comedy       3.1250\n",
       "Sport        3.1250\n",
       "Mystery      1.5625\n",
       "History      1.5625\n",
       "Fantasy      1.5625\n",
       "Name: genre3, dtype: float64"
      ]
     },
     "execution_count": 38,
     "metadata": {},
     "output_type": "execute_result"
    }
   ],
   "source": [
    "#categories in string columns\n",
    "d1['genre3'].value_counts()*100/len(d1)"
   ]
  },
  {
   "cell_type": "code",
   "execution_count": 32,
   "metadata": {},
   "outputs": [
    {
     "data": {
      "text/plain": [
       "Action       78.1250\n",
       "Drama        14.0625\n",
       "Biography     4.6875\n",
       "Crime         3.1250\n",
       "Name: genre1, dtype: float64"
      ]
     },
     "execution_count": 32,
     "metadata": {},
     "output_type": "execute_result"
    }
   ],
   "source": [
    "#string columns manipulations\n",
    "d1.loc[d1['genre1']=='Comedy','genre1']='Action'\n",
    "d1['genre1'].value_counts()*100/len(d1)"
   ]
  },
  {
   "cell_type": "code",
   "execution_count": 39,
   "metadata": {},
   "outputs": [
    {
     "data": {
      "text/plain": [
       "title                  0\n",
       "Release Date           0\n",
       "Gross                  0\n",
       "Release Year           0\n",
       "duration               0\n",
       "language               0\n",
       "director               0\n",
       "writer                 0\n",
       "production_company     1\n",
       "Lead Star              0\n",
       "genre1                 0\n",
       "genre2                 4\n",
       "genre3                 0\n",
       "Release Month          0\n",
       "Start Month            0\n",
       "End Month              0\n",
       "Budget                10\n",
       "screens                7\n",
       "dtype: int64"
      ]
     },
     "execution_count": 39,
     "metadata": {},
     "output_type": "execute_result"
    }
   ],
   "source": [
    "#impute the missing value\n",
    "d1['genre3'].fillna('Romance',inplace=True)\n",
    "d1.isnull().sum()"
   ]
  },
  {
   "cell_type": "code",
   "execution_count": 40,
   "metadata": {},
   "outputs": [
    {
     "data": {
      "text/plain": [
       "title                 0\n",
       "Release Date          0\n",
       "Gross                 0\n",
       "Release Year          0\n",
       "duration              0\n",
       "language              0\n",
       "director              0\n",
       "writer                0\n",
       "production_company    1\n",
       "Lead Star             0\n",
       "genre1                0\n",
       "genre2                4\n",
       "genre3                0\n",
       "Release Month         0\n",
       "Start Month           0\n",
       "End Month             0\n",
       "Budget                0\n",
       "screens               7\n",
       "dtype: int64"
      ]
     },
     "execution_count": 40,
     "metadata": {},
     "output_type": "execute_result"
    }
   ],
   "source": [
    "#impute the missing value\n",
    "d1['Budget'].fillna(d1['Budget'].mean(),inplace=True)\n",
    "d1.isnull().sum()"
   ]
  },
  {
   "cell_type": "code",
   "execution_count": 41,
   "metadata": {},
   "outputs": [
    {
     "data": {
      "text/plain": [
       "Index(['title', 'Release Date', 'Gross', 'Release Year', 'duration',\n",
       "       'language', 'director', 'writer', 'production_company', 'Lead Star',\n",
       "       'genre1', 'genre2', 'genre3', 'Release Month', 'Start Month',\n",
       "       'End Month', 'Budget', 'screens'],\n",
       "      dtype='object')"
      ]
     },
     "execution_count": 41,
     "metadata": {},
     "output_type": "execute_result"
    }
   ],
   "source": [
    "k= d1.columns\n",
    "k"
   ]
  },
  {
   "cell_type": "code",
   "execution_count": 42,
   "metadata": {},
   "outputs": [
    {
     "data": {
      "text/html": [
       "<div>\n",
       "<style scoped>\n",
       "    .dataframe tbody tr th:only-of-type {\n",
       "        vertical-align: middle;\n",
       "    }\n",
       "\n",
       "    .dataframe tbody tr th {\n",
       "        vertical-align: top;\n",
       "    }\n",
       "\n",
       "    .dataframe thead th {\n",
       "        text-align: right;\n",
       "    }\n",
       "</style>\n",
       "<table border=\"1\" class=\"dataframe\">\n",
       "  <thead>\n",
       "    <tr style=\"text-align: right;\">\n",
       "      <th></th>\n",
       "      <th>title</th>\n",
       "      <th>Release Date</th>\n",
       "      <th>Gross</th>\n",
       "      <th>Release Year</th>\n",
       "      <th>duration</th>\n",
       "    </tr>\n",
       "  </thead>\n",
       "  <tbody>\n",
       "    <tr>\n",
       "      <th>0</th>\n",
       "      <td>2</td>\n",
       "      <td>29-11-2018</td>\n",
       "      <td>5196500000</td>\n",
       "      <td>2018</td>\n",
       "      <td>148</td>\n",
       "    </tr>\n",
       "    <tr>\n",
       "      <th>1</th>\n",
       "      <td>Dangal</td>\n",
       "      <td>23-12-2016</td>\n",
       "      <td>5115800000</td>\n",
       "      <td>2016</td>\n",
       "      <td>161</td>\n",
       "    </tr>\n",
       "    <tr>\n",
       "      <th>2</th>\n",
       "      <td>PK</td>\n",
       "      <td>19-12-2014</td>\n",
       "      <td>4487400000</td>\n",
       "      <td>2014</td>\n",
       "      <td>153</td>\n",
       "    </tr>\n",
       "    <tr>\n",
       "      <th>3</th>\n",
       "      <td>Tiger Zinda Hai</td>\n",
       "      <td>22-12-2017</td>\n",
       "      <td>4324300000</td>\n",
       "      <td>2017</td>\n",
       "      <td>161</td>\n",
       "    </tr>\n",
       "    <tr>\n",
       "      <th>4</th>\n",
       "      <td>Sanju</td>\n",
       "      <td>29-06-2018</td>\n",
       "      <td>4308400000</td>\n",
       "      <td>2018</td>\n",
       "      <td>155</td>\n",
       "    </tr>\n",
       "  </tbody>\n",
       "</table>\n",
       "</div>"
      ],
      "text/plain": [
       "             title Release Date       Gross  Release Year  duration\n",
       "0                2   29-11-2018  5196500000          2018       148\n",
       "1           Dangal   23-12-2016  5115800000          2016       161\n",
       "2               PK   19-12-2014  4487400000          2014       153\n",
       "3  Tiger Zinda Hai   22-12-2017  4324300000          2017       161\n",
       "4            Sanju   29-06-2018  4308400000          2018       155"
      ]
     },
     "execution_count": 42,
     "metadata": {},
     "output_type": "execute_result"
    }
   ],
   "source": [
    "#slice the dataframe\n",
    "d2 = d1[['title', 'Release Date', 'Gross', 'Release Year', 'duration']]\n",
    "d2.head()"
   ]
  },
  {
   "cell_type": "code",
   "execution_count": 50,
   "metadata": {},
   "outputs": [
    {
     "data": {
      "text/plain": [
       "(64, 5)"
      ]
     },
     "execution_count": 50,
     "metadata": {},
     "output_type": "execute_result"
    }
   ],
   "source": [
    "d2.shape"
   ]
  },
  {
   "cell_type": "code",
   "execution_count": 55,
   "metadata": {},
   "outputs": [
    {
     "data": {
      "text/plain": [
       "(15, 5)"
      ]
     },
     "execution_count": 55,
     "metadata": {},
     "output_type": "execute_result"
    }
   ],
   "source": [
    "#select the first fifteen rows of the dataframe\n",
    "d3 = d2.iloc[:15,:]\n",
    "d3.shape"
   ]
  },
  {
   "cell_type": "code",
   "execution_count": 57,
   "metadata": {},
   "outputs": [],
   "source": [
    "#save the dataframe\n",
    "d2.to_excel(r\"Sliced.xlsx\",index=False)"
   ]
  },
  {
   "cell_type": "code",
   "execution_count": null,
   "metadata": {},
   "outputs": [],
   "source": []
  }
 ],
 "metadata": {
  "kernelspec": {
   "display_name": "Python 3",
   "language": "python",
   "name": "python3"
  },
  "language_info": {
   "codemirror_mode": {
    "name": "ipython",
    "version": 3
   },
   "file_extension": ".py",
   "mimetype": "text/x-python",
   "name": "python",
   "nbconvert_exporter": "python",
   "pygments_lexer": "ipython3",
   "version": "3.7.3"
  }
 },
 "nbformat": 4,
 "nbformat_minor": 2
}
